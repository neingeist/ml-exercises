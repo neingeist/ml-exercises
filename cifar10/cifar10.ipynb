{
 "cells": [
  {
   "cell_type": "markdown",
   "metadata": {},
   "source": [
    "Largely based on `cifar10_cnn.py` from the Keras examples.\n",
    "\n",
    "This classifies the images from the CIFAR 10 small image data set using a convolutional neural network (CNN)."
   ]
  },
  {
   "cell_type": "code",
   "execution_count": 14,
   "metadata": {},
   "outputs": [],
   "source": [
    "%matplotlib inline\n",
    "\n",
    "from keras.datasets import cifar10\n",
    "from keras.models import Sequential, load_model\n",
    "from keras.layers import Dense, Activation, Conv2D, MaxPooling2D, Flatten, Dropout\n",
    "from keras.callbacks import EarlyStopping\n",
    "from IPython.display import display, HTML\n",
    "import matplotlib.pyplot as plt\n",
    "import numpy as np\n",
    "import os.path"
   ]
  },
  {
   "cell_type": "code",
   "execution_count": 2,
   "metadata": {
    "collapsed": true
   },
   "outputs": [],
   "source": [
    "(X_train, y_train), (X_test, y_test) = cifar10.load_data()"
   ]
  },
  {
   "cell_type": "markdown",
   "metadata": {},
   "source": [
    "These are the 10 categories from the CIFAR 10 data set:"
   ]
  },
  {
   "cell_type": "code",
   "execution_count": 3,
   "metadata": {
    "collapsed": true
   },
   "outputs": [],
   "source": [
    "category = [\n",
    "    'airplane',\n",
    "    'automobile',\n",
    "    'bird',\n",
    "    'cat',\n",
    "    'deer',\n",
    "    'dog',\n",
    "    'frog',\n",
    "    'horse',\n",
    "    'ship',\n",
    "    'truck'\n",
    "]"
   ]
  },
  {
   "cell_type": "code",
   "execution_count": 4,
   "metadata": {},
   "outputs": [
    {
     "data": {
      "image/png": "[encoded data removed]",
      "text/plain": [
       "<matplotlib.figure.Figure at 0x7f491e346e10>"
      ]
     },
     "metadata": {},
     "output_type": "display_data"
    },
    {
     "data": {
      "text/html": [
       "1 automobile"
      ],
      "text/plain": [
       "<IPython.core.display.HTML object>"
      ]
     },
     "metadata": {},
     "output_type": "display_data"
    },
    {
     "data": {
      "image/png": "[encoded data removed]",
      "text/plain": [
       "<matplotlib.figure.Figure at 0x7f491300fd30>"
      ]
     },
     "metadata": {},
     "output_type": "display_data"
    },
    {
     "data": {
      "text/html": [
       "8 ship"
      ],
      "text/plain": [
       "<IPython.core.display.HTML object>"
      ]
     },
     "metadata": {},
     "output_type": "display_data"
    },
    {
     "data": {
      "image/png": "[encoded data removed]",
      "text/plain": [
       "<matplotlib.figure.Figure at 0x7f4912fd33c8>"
      ]
     },
     "metadata": {},
     "output_type": "display_data"
    },
    {
     "data": {
      "text/html": [
       "8 ship"
      ],
      "text/plain": [
       "<IPython.core.display.HTML object>"
      ]
     },
     "metadata": {},
     "output_type": "display_data"
    }
   ],
   "source": [
    "i_s = np.random.randint(0, len(X_train), size=3)\n",
    "\n",
    "for i in i_s:\n",
    "    true_label = int(y_train[i])\n",
    "    plt.imshow(X_train[i]); plt.show()\n",
    "    display(HTML('{} {}'.format(true_label, category[true_label])))\n",
    "    "
   ]
  },
  {
   "cell_type": "code",
   "execution_count": 5,
   "metadata": {
    "collapsed": true
   },
   "outputs": [],
   "source": [
    "from keras.utils import np_utils\n",
    "\n",
    "X_train = X_train.astype('float32')\n",
    "X_test = X_test.astype('float32')\n",
    "X_train /= 255\n",
    "X_test /= 255\n",
    "\n",
    "Y_train = np_utils.to_categorical(y_train, 10)\n",
    "Y_test = np_utils.to_categorical(y_test, 10)"
   ]
  },
  {
   "cell_type": "code",
   "execution_count": 6,
   "metadata": {
    "scrolled": true
   },
   "outputs": [
    {
     "name": "stdout",
     "output_type": "stream",
     "text": [
      "[[ 0.  1.  0.  0.  0.  0.  0.  0.  0.  0.]\n",
      " [ 0.  0.  0.  0.  0.  0.  0.  0.  1.  0.]\n",
      " [ 0.  0.  0.  0.  0.  0.  0.  0.  1.  0.]]\n"
     ]
    }
   ],
   "source": [
    "print(Y_train[i_s])"
   ]
  },
  {
   "cell_type": "code",
   "execution_count": 19,
   "metadata": {},
   "outputs": [
    {
     "name": "stdout",
     "output_type": "stream",
     "text": [
      "_________________________________________________________________\n",
      "Layer (type)                 Output Shape              Param #   \n",
      "=================================================================\n",
      "conv2d_5 (Conv2D)            (None, 32, 32, 32)        896       \n",
      "_________________________________________________________________\n",
      "conv2d_6 (Conv2D)            (None, 30, 30, 32)        9248      \n",
      "_________________________________________________________________\n",
      "max_pooling2d_3 (MaxPooling2 (None, 15, 15, 32)        0         \n",
      "_________________________________________________________________\n",
      "dropout_4 (Dropout)          (None, 15, 15, 32)        0         \n",
      "_________________________________________________________________\n",
      "conv2d_7 (Conv2D)            (None, 15, 15, 64)        18496     \n",
      "_________________________________________________________________\n",
      "conv2d_8 (Conv2D)            (None, 13, 13, 64)        36928     \n",
      "_________________________________________________________________\n",
      "max_pooling2d_4 (MaxPooling2 (None, 6, 6, 64)          0         \n",
      "_________________________________________________________________\n",
      "dropout_5 (Dropout)          (None, 6, 6, 64)          0         \n",
      "_________________________________________________________________\n",
      "flatten_2 (Flatten)          (None, 2304)              0         \n",
      "_________________________________________________________________\n",
      "dense_3 (Dense)              (None, 512)               1180160   \n",
      "_________________________________________________________________\n",
      "dropout_6 (Dropout)          (None, 512)               0         \n",
      "_________________________________________________________________\n",
      "dense_4 (Dense)              (None, 10)                5130      \n",
      "=================================================================\n",
      "Total params: 1,250,858\n",
      "Trainable params: 1,250,858\n",
      "Non-trainable params: 0\n",
      "_________________________________________________________________\n",
      "Train on 40000 samples, validate on 10000 samples\n",
      "Epoch 1/50\n",
      "16s - loss: 1.5591 - acc: 0.4304 - val_loss: 1.3241 - val_acc: 0.5346\n",
      "Epoch 2/50\n",
      "17s - loss: 1.1856 - acc: 0.5779 - val_loss: 0.9908 - val_acc: 0.6440\n",
      "Epoch 3/50\n",
      "16s - loss: 1.0233 - acc: 0.6383 - val_loss: 0.8905 - val_acc: 0.6873\n",
      "Epoch 4/50\n",
      "16s - loss: 0.9098 - acc: 0.6790 - val_loss: 0.8100 - val_acc: 0.7192\n",
      "Epoch 5/50\n",
      "16s - loss: 0.8367 - acc: 0.7089 - val_loss: 0.7671 - val_acc: 0.7340\n",
      "Epoch 6/50\n",
      "16s - loss: 0.7712 - acc: 0.7305 - val_loss: 0.7441 - val_acc: 0.7384\n",
      "Epoch 7/50\n",
      "17s - loss: 0.7291 - acc: 0.7447 - val_loss: 0.6962 - val_acc: 0.7565\n",
      "Epoch 8/50\n",
      "16s - loss: 0.6919 - acc: 0.7568 - val_loss: 0.7017 - val_acc: 0.7566\n",
      "Epoch 9/50\n",
      "17s - loss: 0.6642 - acc: 0.7664 - val_loss: 0.6890 - val_acc: 0.7590\n",
      "Epoch 10/50\n",
      "16s - loss: 0.6312 - acc: 0.7786 - val_loss: 0.7180 - val_acc: 0.7556\n",
      "Epoch 11/50\n",
      "16s - loss: 0.5941 - acc: 0.7923 - val_loss: 0.6744 - val_acc: 0.7721\n",
      "Epoch 12/50\n",
      "17s - loss: 0.5809 - acc: 0.7972 - val_loss: 0.6947 - val_acc: 0.7650\n",
      "Epoch 13/50\n",
      "16s - loss: 0.5657 - acc: 0.7999 - val_loss: 0.6784 - val_acc: 0.7711\n",
      "Epoch 14/50\n",
      "17s - loss: 0.5417 - acc: 0.8106 - val_loss: 0.6904 - val_acc: 0.7696\n",
      "Epoch 15/50\n",
      "16s - loss: 0.5309 - acc: 0.8129 - val_loss: 0.6676 - val_acc: 0.7743\n",
      "Epoch 16/50\n",
      "16s - loss: 0.5152 - acc: 0.8202 - val_loss: 0.6739 - val_acc: 0.7744\n",
      "Epoch 17/50\n",
      "16s - loss: 0.5101 - acc: 0.8191 - val_loss: 0.6513 - val_acc: 0.7787\n",
      "Epoch 18/50\n",
      "16s - loss: 0.4901 - acc: 0.8274 - val_loss: 0.6685 - val_acc: 0.7824\n",
      "Epoch 19/50\n",
      "16s - loss: 0.4767 - acc: 0.8321 - val_loss: 0.6665 - val_acc: 0.7814\n",
      "Epoch 20/50\n",
      "17s - loss: 0.4645 - acc: 0.8375 - val_loss: 0.6727 - val_acc: 0.7817\n",
      "Epoch 21/50\n",
      "17s - loss: 0.4602 - acc: 0.8368 - val_loss: 0.6554 - val_acc: 0.7867\n"
     ]
    }
   ],
   "source": [
    "model_fn = 'cifar10_model.h5'\n",
    "if os.path.exists(model_fn):\n",
    "    model = load_model(model_fn)\n",
    "else:\n",
    "    model = Sequential()\n",
    "\n",
    "    model.add(Conv2D(32, (3, 3), padding='same', input_shape=X_train.shape[1:], activation='relu'))\n",
    "    model.add(Conv2D(32, (3, 3), activation='relu'))\n",
    "    model.add(MaxPooling2D(pool_size=(2,2)))\n",
    "    model.add(Dropout(0.25))\n",
    "\n",
    "    model.add(Conv2D(64, (3, 3), padding='same', activation='relu'))\n",
    "    model.add(Conv2D(64, (3, 3), activation='relu'))\n",
    "    model.add(MaxPooling2D(pool_size=(2,2)))\n",
    "    model.add(Dropout(0.25))\n",
    "\n",
    "    model.add(Flatten())\n",
    "    model.add(Dense(512, activation='relu'))\n",
    "    model.add(Dropout(0.5))\n",
    "    model.add(Dense(len(category), activation='softmax'))\n",
    "\n",
    "    # Fails to converge using RMSprop, see https://github.com/fchollet/keras/issues/4897, so use\n",
    "    # Adam instead.\n",
    "    optimizer = 'adam'\n",
    "\n",
    "    model.compile(loss='categorical_crossentropy',\n",
    "                  optimizer=optimizer,\n",
    "                  metrics=['accuracy'])\n",
    "\n",
    "    model.summary()\n",
    "    \n",
    "    early_stopping = EarlyStopping(monitor='val_loss', patience=3)\n",
    "\n",
    "    model.fit(X_train, Y_train,\n",
    "              batch_size=32,\n",
    "              epochs=50,\n",
    "              validation_split=0.2,\n",
    "              callbacks=[early_stopping],\n",
    "              shuffle=True,\n",
    "              verbose=2)\n",
    "    model.save(model_fn)"
   ]
  },
  {
   "cell_type": "code",
   "execution_count": 20,
   "metadata": {},
   "outputs": [
    {
     "name": "stdout",
     "output_type": "stream",
     "text": [
      "loss: 0.6729637229442597\n",
      "acc: 0.7815\n"
     ]
    }
   ],
   "source": [
    "metrics = model.evaluate(X_test, Y_test, verbose=False)\n",
    "for name, metric in zip(model.metrics_names, metrics):\n",
    "    print('{}: {}'.format(name, metric))"
   ]
  },
  {
   "cell_type": "markdown",
   "metadata": {},
   "source": [
    "Here are some example predictions from the test set:"
   ]
  },
  {
   "cell_type": "code",
   "execution_count": 21,
   "metadata": {},
   "outputs": [
    {
     "data": {
      "image/png": "[encoded data removed]",
      "text/plain": [
       "<matplotlib.figure.Figure at 0x7f48e469c7f0>"
      ]
     },
     "metadata": {},
     "output_type": "display_data"
    },
    {
     "data": {
      "text/html": [
       "<span style=\"color: green\">8 ship</span><br/>8 ship"
      ],
      "text/plain": [
       "<IPython.core.display.HTML object>"
      ]
     },
     "metadata": {},
     "output_type": "display_data"
    },
    {
     "data": {
      "image/png": "[encoded data removed]",
      "text/plain": [
       "<matplotlib.figure.Figure at 0x7f48dd928630>"
      ]
     },
     "metadata": {},
     "output_type": "display_data"
    },
    {
     "data": {
      "text/html": [
       "<span style=\"color: green\">5 dog</span><br/>5 dog"
      ],
      "text/plain": [
       "<IPython.core.display.HTML object>"
      ]
     },
     "metadata": {},
     "output_type": "display_data"
    },
    {
     "data": {
      "image/png": "[encoded data removed]",
      "text/plain": [
       "<matplotlib.figure.Figure at 0x7f48dd8cde48>"
      ]
     },
     "metadata": {},
     "output_type": "display_data"
    },
    {
     "data": {
      "text/html": [
       "<span style=\"color: red\">2 bird</span><br/>0 airplane"
      ],
      "text/plain": [
       "<IPython.core.display.HTML object>"
      ]
     },
     "metadata": {},
     "output_type": "display_data"
    }
   ],
   "source": [
    "test_i_s = np.random.randint(0, len(X_test), size=3)\n",
    "\n",
    "for X, pred, true_label in zip(X_test[test_i_s], model.predict_classes(X_test[test_i_s], verbose=False), y_test[test_i_s]):\n",
    "    true_label = int(true_label)\n",
    "    plt.imshow(X)\n",
    "    plt.show()\n",
    "    \n",
    "    color = \"green\" if pred == true_label else \"red\"\n",
    "    \n",
    "    display(HTML(\n",
    "        '<span style=\"color: {}\">{} {}</span><br/>{} {}'.format(\n",
    "            color,\n",
    "            pred, category[pred],\n",
    "            true_label, category[true_label]\n",
    "        )\n",
    "    ))"
   ]
  }
 ],
 "metadata": {
  "kernelspec": {
   "display_name": "Python 3",
   "language": "python",
   "name": "python3"
  },
  "language_info": {
   "codemirror_mode": {
    "name": "ipython",
    "version": 3
   },
   "file_extension": ".py",
   "mimetype": "text/x-python",
   "name": "python",
   "nbconvert_exporter": "python",
   "pygments_lexer": "ipython3",
   "version": "3.5.3"
  }
 },
 "nbformat": 4,
 "nbformat_minor": 1
}

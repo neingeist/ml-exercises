{
 "cells": [
  {
   "cell_type": "code",
   "execution_count": 1,
   "metadata": {
    "collapsed": false,
    "deletable": true,
    "editable": true
   },
   "outputs": [
    {
     "name": "stderr",
     "output_type": "stream",
     "text": [
      "Using TensorFlow backend.\n"
     ]
    }
   ],
   "source": [
    "%matplotlib inline\n",
    "\n",
    "from keras.datasets import cifar10\n",
    "from keras.models import Sequential\n",
    "import matplotlib.pyplot as plt"
   ]
  },
  {
   "cell_type": "code",
   "execution_count": 2,
   "metadata": {
    "collapsed": false,
    "deletable": true,
    "editable": true
   },
   "outputs": [],
   "source": [
    "(X_train, y_train), (X_test, y_test) = cifar10.load_data()"
   ]
  },
  {
   "cell_type": "code",
   "execution_count": 3,
   "metadata": {
    "collapsed": false,
    "deletable": true,
    "editable": true
   },
   "outputs": [
    {
     "name": "stdout",
     "output_type": "stream",
     "text": [
      "[6]\n"
     ]
    },
    {
     "data": {
      "image/png": "[encoded data removed]",
      "text/plain": [
       "<matplotlib.figure.Figure at 0x7f9e1f315e48>"
      ]
     },
     "metadata": {},
     "output_type": "display_data"
    }
   ],
   "source": [
    "plt.imshow(X_train[0]); print(y_train[0])"
   ]
  },
  {
   "cell_type": "code",
   "execution_count": 4,
   "metadata": {
    "collapsed": true,
    "deletable": true,
    "editable": true
   },
   "outputs": [],
   "source": [
    "from keras.layers import Dense, Activation, Convolution2D, MaxPooling2D, Flatten\n",
    "\n",
    "model = Sequential()\n",
    "\n",
    "model.add(Convolution2D(32, 3, 3, border_mode='same', input_shape=X_train.shape[1:]))  # FIXME stride == subsample\n",
    "model.add(Activation(\"relu\"))\n",
    "model.add(Convolution2D(32, 3, 3))\n",
    "model.add(Activation(\"relu\"))\n",
    "model.add(MaxPooling2D(pool_size=(2,2)))\n",
    "\n",
    "model.add(Flatten())\n",
    "model.add(Dense(10))\n",
    "model.add(Activation(\"softmax\"))"
   ]
  },
  {
   "cell_type": "code",
   "execution_count": 5,
   "metadata": {
    "collapsed": true,
    "deletable": true,
    "editable": true
   },
   "outputs": [],
   "source": [
    "model.compile(loss='categorical_crossentropy',\n",
    "              optimizer='rmsprop',\n",
    "              metrics=['accuracy'])"
   ]
  },
  {
   "cell_type": "code",
   "execution_count": null,
   "metadata": {
    "collapsed": true,
    "deletable": true,
    "editable": true
   },
   "outputs": [],
   "source": [
    "from keras.utils import np_utils\n",
    "\n",
    "X_train = X_train.astype('float32')\n",
    "X_test = X_test.astype('float32')\n",
    "X_train /= 255\n",
    "X_test /= 255\n",
    "\n",
    "Y_train = np_utils.to_categorical(y_train, 10)\n",
    "Y_test = np_utils.to_categorical(y_test, 10)"
   ]
  },
  {
   "cell_type": "code",
   "execution_count": null,
   "metadata": {
    "collapsed": false,
    "deletable": true,
    "editable": true
   },
   "outputs": [
    {
     "name": "stdout",
     "output_type": "stream",
     "text": [
      "Train on 50000 samples, validate on 10000 samples\n",
      "Epoch 1/200\n",
      "14s - loss: 1.3922 - acc: 0.5080 - val_loss: 1.1430 - val_acc: 0.5998\n",
      "Epoch 2/200\n",
      "14s - loss: 1.0532 - acc: 0.6377 - val_loss: 1.2006 - val_acc: 0.5876\n",
      "Epoch 3/200\n",
      "14s - loss: 0.9419 - acc: 0.6763 - val_loss: 1.0130 - val_acc: 0.6540\n",
      "Epoch 4/200\n",
      "14s - loss: 0.8712 - acc: 0.7019 - val_loss: 0.9668 - val_acc: 0.6748\n",
      "Epoch 5/200\n",
      "14s - loss: 0.8192 - acc: 0.7219 - val_loss: 0.9894 - val_acc: 0.6627\n",
      "Epoch 6/200\n",
      "14s - loss: 0.7764 - acc: 0.7369 - val_loss: 1.0598 - val_acc: 0.6563\n",
      "Epoch 7/200\n",
      "15s - loss: 0.7382 - acc: 0.7511 - val_loss: 0.9724 - val_acc: 0.6732\n",
      "Epoch 8/200\n",
      "14s - loss: 0.7064 - acc: 0.7618 - val_loss: 1.0276 - val_acc: 0.6691\n",
      "Epoch 9/200\n",
      "14s - loss: 0.6763 - acc: 0.7721 - val_loss: 1.0075 - val_acc: 0.6732\n",
      "Epoch 10/200\n",
      "13s - loss: 0.6506 - acc: 0.7818 - val_loss: 1.0990 - val_acc: 0.6571\n",
      "Epoch 11/200\n",
      "14s - loss: 0.6254 - acc: 0.7914 - val_loss: 1.0592 - val_acc: 0.6584\n",
      "Epoch 12/200\n",
      "14s - loss: 0.6029 - acc: 0.7972 - val_loss: 1.0721 - val_acc: 0.6644\n",
      "Epoch 13/200\n",
      "14s - loss: 0.5820 - acc: 0.8062 - val_loss: 1.0496 - val_acc: 0.6613\n",
      "Epoch 14/200\n",
      "14s - loss: 0.5611 - acc: 0.8113 - val_loss: 1.1353 - val_acc: 0.6584\n",
      "Epoch 15/200\n",
      "13s - loss: 0.5417 - acc: 0.8199 - val_loss: 1.2223 - val_acc: 0.6568\n",
      "Epoch 16/200\n",
      "14s - loss: 0.5226 - acc: 0.8253 - val_loss: 1.2698 - val_acc: 0.6408\n",
      "Epoch 17/200\n",
      "14s - loss: 0.5061 - acc: 0.8305 - val_loss: 1.2323 - val_acc: 0.6547\n",
      "Epoch 18/200\n",
      "14s - loss: 0.4905 - acc: 0.8361 - val_loss: 1.2522 - val_acc: 0.6561\n",
      "Epoch 19/200\n",
      "14s - loss: 0.4737 - acc: 0.8409 - val_loss: 1.2526 - val_acc: 0.6533\n",
      "Epoch 20/200\n",
      "14s - loss: 0.4604 - acc: 0.8461 - val_loss: 1.3727 - val_acc: 0.6442\n",
      "Epoch 21/200\n",
      "15s - loss: 0.4449 - acc: 0.8519 - val_loss: 1.3447 - val_acc: 0.6571\n",
      "Epoch 22/200\n",
      "15s - loss: 0.4344 - acc: 0.8567 - val_loss: 1.3098 - val_acc: 0.6676\n",
      "Epoch 23/200\n",
      "14s - loss: 0.4225 - acc: 0.8588 - val_loss: 1.4349 - val_acc: 0.6484\n",
      "Epoch 24/200\n",
      "14s - loss: 0.4083 - acc: 0.8626 - val_loss: 1.4595 - val_acc: 0.6552\n",
      "Epoch 25/200\n",
      "15s - loss: 0.3964 - acc: 0.8676 - val_loss: 1.4556 - val_acc: 0.6529\n",
      "Epoch 26/200\n",
      "15s - loss: 0.3832 - acc: 0.8707 - val_loss: 1.6096 - val_acc: 0.6336\n",
      "Epoch 27/200\n",
      "14s - loss: 0.3740 - acc: 0.8744 - val_loss: 1.6043 - val_acc: 0.6507\n",
      "Epoch 28/200\n",
      "13s - loss: 0.3637 - acc: 0.8770 - val_loss: 1.5794 - val_acc: 0.6464\n",
      "Epoch 29/200\n",
      "14s - loss: 0.3524 - acc: 0.8815 - val_loss: 1.6137 - val_acc: 0.6430\n",
      "Epoch 30/200\n",
      "15s - loss: 0.3444 - acc: 0.8843 - val_loss: 1.7058 - val_acc: 0.6455\n",
      "Epoch 31/200\n",
      "15s - loss: 0.3371 - acc: 0.8864 - val_loss: 1.7274 - val_acc: 0.6462\n",
      "Epoch 32/200\n",
      "13s - loss: 0.3260 - acc: 0.8903 - val_loss: 1.7986 - val_acc: 0.6385\n",
      "Epoch 33/200\n",
      "14s - loss: 0.3126 - acc: 0.8953 - val_loss: 1.9496 - val_acc: 0.6247\n",
      "Epoch 34/200\n",
      "14s - loss: 0.3080 - acc: 0.8957 - val_loss: 1.9616 - val_acc: 0.6325\n",
      "Epoch 35/200\n",
      "14s - loss: 0.2968 - acc: 0.9005 - val_loss: 1.9387 - val_acc: 0.6358\n",
      "Epoch 36/200\n",
      "14s - loss: 0.2863 - acc: 0.9035 - val_loss: 2.0612 - val_acc: 0.6381\n",
      "Epoch 37/200\n",
      "14s - loss: 0.2796 - acc: 0.9050 - val_loss: 2.0377 - val_acc: 0.6363\n",
      "Epoch 38/200\n",
      "14s - loss: 0.2739 - acc: 0.9087 - val_loss: 2.1594 - val_acc: 0.6304\n",
      "Epoch 39/200\n",
      "15s - loss: 0.2662 - acc: 0.9102 - val_loss: 2.1365 - val_acc: 0.6366\n",
      "Epoch 40/200\n",
      "14s - loss: 0.2637 - acc: 0.9119 - val_loss: 2.2562 - val_acc: 0.6333\n",
      "Epoch 41/200\n",
      "14s - loss: 0.2527 - acc: 0.9158 - val_loss: 2.2387 - val_acc: 0.6281\n",
      "Epoch 42/200\n",
      "14s - loss: 0.2463 - acc: 0.9156 - val_loss: 2.2857 - val_acc: 0.6289\n",
      "Epoch 43/200\n",
      "14s - loss: 0.2408 - acc: 0.9192 - val_loss: 2.3637 - val_acc: 0.6343\n",
      "Epoch 44/200\n",
      "13s - loss: 0.2366 - acc: 0.9200 - val_loss: 2.4216 - val_acc: 0.6275\n",
      "Epoch 45/200\n",
      "13s - loss: 0.2288 - acc: 0.9231 - val_loss: 2.4735 - val_acc: 0.6249\n",
      "Epoch 46/200\n",
      "13s - loss: 0.2237 - acc: 0.9252 - val_loss: 2.5614 - val_acc: 0.6299\n",
      "Epoch 47/200\n",
      "13s - loss: 0.2190 - acc: 0.9271 - val_loss: 2.5299 - val_acc: 0.6289\n",
      "Epoch 48/200\n",
      "14s - loss: 0.2110 - acc: 0.9281 - val_loss: 2.5697 - val_acc: 0.6253\n",
      "Epoch 49/200\n",
      "13s - loss: 0.2057 - acc: 0.9292 - val_loss: 2.6313 - val_acc: 0.6330\n",
      "Epoch 50/200\n",
      "13s - loss: 0.2016 - acc: 0.9302 - val_loss: 2.8842 - val_acc: 0.6255\n",
      "Epoch 51/200\n",
      "14s - loss: 0.1965 - acc: 0.9317 - val_loss: 2.8906 - val_acc: 0.6195\n",
      "Epoch 52/200\n",
      "14s - loss: 0.1953 - acc: 0.9341 - val_loss: 2.7789 - val_acc: 0.6339\n",
      "Epoch 53/200\n",
      "13s - loss: 0.1884 - acc: 0.9368 - val_loss: 2.8463 - val_acc: 0.6259\n",
      "Epoch 54/200\n",
      "13s - loss: 0.1839 - acc: 0.9380 - val_loss: 2.9712 - val_acc: 0.6285\n",
      "Epoch 55/200\n",
      "13s - loss: 0.1834 - acc: 0.9387 - val_loss: 2.9735 - val_acc: 0.6181\n",
      "Epoch 56/200\n",
      "14s - loss: 0.1736 - acc: 0.9410 - val_loss: 3.0438 - val_acc: 0.6245\n",
      "Epoch 57/200\n",
      "13s - loss: 0.1726 - acc: 0.9420 - val_loss: 3.0449 - val_acc: 0.6227\n",
      "Epoch 58/200\n",
      "14s - loss: 0.1659 - acc: 0.9434 - val_loss: 3.1422 - val_acc: 0.6269\n",
      "Epoch 59/200\n",
      "14s - loss: 0.1665 - acc: 0.9445 - val_loss: 3.1980 - val_acc: 0.6284\n",
      "Epoch 60/200\n",
      "14s - loss: 0.1609 - acc: 0.9454 - val_loss: 3.2672 - val_acc: 0.6275\n",
      "Epoch 61/200\n",
      "14s - loss: 0.1575 - acc: 0.9469 - val_loss: 3.2175 - val_acc: 0.6231\n",
      "Epoch 62/200\n",
      "14s - loss: 0.1547 - acc: 0.9475 - val_loss: 3.2731 - val_acc: 0.6232\n",
      "Epoch 63/200\n",
      "14s - loss: 0.1533 - acc: 0.9476 - val_loss: 3.3717 - val_acc: 0.6197\n",
      "Epoch 64/200\n",
      "15s - loss: 0.1503 - acc: 0.9498 - val_loss: 3.4247 - val_acc: 0.6194\n",
      "Epoch 65/200\n",
      "14s - loss: 0.1477 - acc: 0.9505 - val_loss: 3.4029 - val_acc: 0.6254\n",
      "Epoch 66/200\n"
     ]
    }
   ],
   "source": [
    "model.fit(X_train, Y_train,\n",
    "          batch_size=32,\n",
    "          nb_epoch=200,\n",
    "          validation_data=(X_test, Y_test),\n",
    "          shuffle=True,\n",
    "          verbose=2)"
   ]
  },
  {
   "cell_type": "code",
   "execution_count": null,
   "metadata": {
    "collapsed": true,
    "deletable": true,
    "editable": true
   },
   "outputs": [],
   "source": []
  }
 ],
 "metadata": {
  "kernelspec": {
   "display_name": "Python 3",
   "language": "python",
   "name": "python3"
  },
  "language_info": {
   "codemirror_mode": {
    "name": "ipython",
    "version": 3
   },
   "file_extension": ".py",
   "mimetype": "text/x-python",
   "name": "python",
   "nbconvert_exporter": "python",
   "pygments_lexer": "ipython3",
   "version": "3.5.2"
  }
 },
 "nbformat": 4,
 "nbformat_minor": 0
}

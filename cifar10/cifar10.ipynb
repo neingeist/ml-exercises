{
 "cells": [
  {
   "cell_type": "markdown",
   "metadata": {},
   "source": [
    "Largely based on `cifar10_cnn.py` from the Keras examples.\n",
    "\n",
    "This classifies the images from the CIFAR 10 small image data set using a convolutional neural network (CNN)."
   ]
  },
  {
   "cell_type": "code",
   "execution_count": 24,
   "metadata": {},
   "outputs": [],
   "source": [
    "%matplotlib inline\n",
    "\n",
    "from keras.datasets import cifar10\n",
    "from keras.models import Sequential, load_model\n",
    "from keras.layers import Dense, Activation, Conv2D, MaxPooling2D, Flatten, Dropout\n",
    "from IPython.display import display, HTML\n",
    "import matplotlib.pyplot as plt\n",
    "import numpy as np\n",
    "import os.path"
   ]
  },
  {
   "cell_type": "code",
   "execution_count": 2,
   "metadata": {},
   "outputs": [],
   "source": [
    "(X_train, y_train), (X_test, y_test) = cifar10.load_data()"
   ]
  },
  {
   "cell_type": "markdown",
   "metadata": {},
   "source": [
    "These are the 10 categories from the CIFAR 10 data set:"
   ]
  },
  {
   "cell_type": "code",
   "execution_count": 3,
   "metadata": {
    "collapsed": true
   },
   "outputs": [],
   "source": [
    "category = [\n",
    "    'airplane',\n",
    "    'automobile',\n",
    "    'bird',\n",
    "    'cat',\n",
    "    'deer',\n",
    "    'dog',\n",
    "    'frog',\n",
    "    'horse',\n",
    "    'ship',\n",
    "    'truck'\n",
    "]"
   ]
  },
  {
   "cell_type": "code",
   "execution_count": 30,
   "metadata": {},
   "outputs": [
    {
     "data": {
      "image/png": "[encoded data removed]",
      "text/plain": [
       "<matplotlib.figure.Figure at 0x7f3204696518>"
      ]
     },
     "metadata": {},
     "output_type": "display_data"
    },
    {
     "data": {
      "text/html": [
       "5 dog"
      ],
      "text/plain": [
       "<IPython.core.display.HTML object>"
      ]
     },
     "metadata": {},
     "output_type": "display_data"
    },
    {
     "data": {
      "image/png": "[encoded data removed]",
      "text/plain": [
       "<matplotlib.figure.Figure at 0x7f320416d0f0>"
      ]
     },
     "metadata": {},
     "output_type": "display_data"
    },
    {
     "data": {
      "text/html": [
       "3 cat"
      ],
      "text/plain": [
       "<IPython.core.display.HTML object>"
      ]
     },
     "metadata": {},
     "output_type": "display_data"
    },
    {
     "data": {
      "image/png": "[encoded data removed]",
      "text/plain": [
       "<matplotlib.figure.Figure at 0x7f31ee700fd0>"
      ]
     },
     "metadata": {},
     "output_type": "display_data"
    },
    {
     "data": {
      "text/html": [
       "0 airplane"
      ],
      "text/plain": [
       "<IPython.core.display.HTML object>"
      ]
     },
     "metadata": {},
     "output_type": "display_data"
    }
   ],
   "source": [
    "i_s = np.random.randint(0, len(X_train), size=3)\n",
    "\n",
    "for i in i_s:\n",
    "    true_label = int(y_train[i])\n",
    "    plt.imshow(X_train[i]); plt.show()\n",
    "    display(HTML('{} {}'.format(true_label, category[true_label])))\n",
    "    "
   ]
  },
  {
   "cell_type": "code",
   "execution_count": 5,
   "metadata": {
    "collapsed": true
   },
   "outputs": [],
   "source": [
    "from keras.utils import np_utils\n",
    "\n",
    "X_train = X_train.astype('float32')\n",
    "X_test = X_test.astype('float32')\n",
    "X_train /= 255\n",
    "X_test /= 255\n",
    "\n",
    "Y_train = np_utils.to_categorical(y_train, 10)\n",
    "Y_test = np_utils.to_categorical(y_test, 10)"
   ]
  },
  {
   "cell_type": "code",
   "execution_count": 6,
   "metadata": {
    "scrolled": true
   },
   "outputs": [
    {
     "name": "stdout",
     "output_type": "stream",
     "text": [
      "[[ 0.  1.  0.  0.  0.  0.  0.  0.  0.  0.]\n",
      " [ 0.  0.  0.  1.  0.  0.  0.  0.  0.  0.]\n",
      " [ 0.  0.  1.  0.  0.  0.  0.  0.  0.  0.]]\n"
     ]
    }
   ],
   "source": [
    "print(Y_train[i_s])"
   ]
  },
  {
   "cell_type": "code",
   "execution_count": 7,
   "metadata": {},
   "outputs": [
    {
     "name": "stdout",
     "output_type": "stream",
     "text": [
      "_________________________________________________________________\n",
      "Layer (type)                 Output Shape              Param #   \n",
      "=================================================================\n",
      "conv2d_1 (Conv2D)            (None, 32, 32, 32)        896       \n",
      "_________________________________________________________________\n",
      "conv2d_2 (Conv2D)            (None, 30, 30, 32)        9248      \n",
      "_________________________________________________________________\n",
      "max_pooling2d_1 (MaxPooling2 (None, 15, 15, 32)        0         \n",
      "_________________________________________________________________\n",
      "dropout_1 (Dropout)          (None, 15, 15, 32)        0         \n",
      "_________________________________________________________________\n",
      "conv2d_3 (Conv2D)            (None, 15, 15, 64)        18496     \n",
      "_________________________________________________________________\n",
      "conv2d_4 (Conv2D)            (None, 13, 13, 64)        36928     \n",
      "_________________________________________________________________\n",
      "max_pooling2d_2 (MaxPooling2 (None, 6, 6, 64)          0         \n",
      "_________________________________________________________________\n",
      "dropout_2 (Dropout)          (None, 6, 6, 64)          0         \n",
      "_________________________________________________________________\n",
      "flatten_1 (Flatten)          (None, 2304)              0         \n",
      "_________________________________________________________________\n",
      "dense_1 (Dense)              (None, 512)               1180160   \n",
      "_________________________________________________________________\n",
      "dropout_3 (Dropout)          (None, 512)               0         \n",
      "_________________________________________________________________\n",
      "dense_2 (Dense)              (None, 10)                5130      \n",
      "=================================================================\n",
      "Total params: 1,250,858\n",
      "Trainable params: 1,250,858\n",
      "Non-trainable params: 0\n",
      "_________________________________________________________________\n",
      "Train on 50000 samples, validate on 10000 samples\n",
      "Epoch 1/50\n",
      "21s - loss: 1.5407 - acc: 0.4370 - val_loss: 1.2068 - val_acc: 0.5677\n",
      "Epoch 2/50\n",
      "20s - loss: 1.1410 - acc: 0.5954 - val_loss: 0.9533 - val_acc: 0.6647\n",
      "Epoch 3/50\n",
      "20s - loss: 0.9763 - acc: 0.6554 - val_loss: 0.8563 - val_acc: 0.6976\n",
      "Epoch 4/50\n",
      "20s - loss: 0.8859 - acc: 0.6896 - val_loss: 0.8012 - val_acc: 0.7167\n",
      "Epoch 5/50\n",
      "20s - loss: 0.8279 - acc: 0.7106 - val_loss: 0.7986 - val_acc: 0.7224\n",
      "Epoch 6/50\n",
      "20s - loss: 0.7776 - acc: 0.7279 - val_loss: 0.7283 - val_acc: 0.7465\n",
      "Epoch 7/50\n",
      "20s - loss: 0.7330 - acc: 0.7416 - val_loss: 0.7004 - val_acc: 0.7596\n",
      "Epoch 8/50\n",
      "20s - loss: 0.7012 - acc: 0.7552 - val_loss: 0.7024 - val_acc: 0.7612\n",
      "Epoch 9/50\n",
      "20s - loss: 0.6733 - acc: 0.7650 - val_loss: 0.6890 - val_acc: 0.7611\n",
      "Epoch 10/50\n",
      "20s - loss: 0.6426 - acc: 0.7735 - val_loss: 0.6657 - val_acc: 0.7757\n",
      "Epoch 11/50\n",
      "20s - loss: 0.6341 - acc: 0.7771 - val_loss: 0.6467 - val_acc: 0.7769\n",
      "Epoch 12/50\n",
      "21s - loss: 0.6090 - acc: 0.7878 - val_loss: 0.6651 - val_acc: 0.7781\n",
      "Epoch 13/50\n",
      "20s - loss: 0.5936 - acc: 0.7916 - val_loss: 0.6404 - val_acc: 0.7841\n",
      "Epoch 14/50\n",
      "20s - loss: 0.5802 - acc: 0.7966 - val_loss: 0.6553 - val_acc: 0.7772\n",
      "Epoch 15/50\n",
      "20s - loss: 0.5651 - acc: 0.8009 - val_loss: 0.6441 - val_acc: 0.7857\n",
      "Epoch 16/50\n",
      "20s - loss: 0.5547 - acc: 0.8048 - val_loss: 0.6430 - val_acc: 0.7797\n",
      "Epoch 17/50\n",
      "20s - loss: 0.5406 - acc: 0.8084 - val_loss: 0.6364 - val_acc: 0.7881\n",
      "Epoch 18/50\n",
      "20s - loss: 0.5379 - acc: 0.8104 - val_loss: 0.6282 - val_acc: 0.7921\n",
      "Epoch 19/50\n",
      "21s - loss: 0.5251 - acc: 0.8158 - val_loss: 0.6387 - val_acc: 0.7903\n",
      "Epoch 20/50\n",
      "20s - loss: 0.5167 - acc: 0.8190 - val_loss: 0.6169 - val_acc: 0.7960\n",
      "Epoch 21/50\n",
      "20s - loss: 0.5157 - acc: 0.8186 - val_loss: 0.6413 - val_acc: 0.7864\n",
      "Epoch 22/50\n",
      "20s - loss: 0.5045 - acc: 0.8233 - val_loss: 0.6346 - val_acc: 0.7907\n",
      "Epoch 23/50\n",
      "20s - loss: 0.4915 - acc: 0.8269 - val_loss: 0.6464 - val_acc: 0.7929\n",
      "Epoch 24/50\n",
      "20s - loss: 0.4847 - acc: 0.8302 - val_loss: 0.6664 - val_acc: 0.7824\n",
      "Epoch 25/50\n",
      "20s - loss: 0.4773 - acc: 0.8329 - val_loss: 0.6497 - val_acc: 0.7830\n",
      "Epoch 26/50\n",
      "20s - loss: 0.4785 - acc: 0.8328 - val_loss: 0.6462 - val_acc: 0.7863\n",
      "Epoch 27/50\n",
      "20s - loss: 0.4694 - acc: 0.8340 - val_loss: 0.6416 - val_acc: 0.7948\n",
      "Epoch 28/50\n",
      "20s - loss: 0.4610 - acc: 0.8376 - val_loss: 0.6451 - val_acc: 0.7965\n",
      "Epoch 29/50\n",
      "20s - loss: 0.4487 - acc: 0.8415 - val_loss: 0.6458 - val_acc: 0.7942\n",
      "Epoch 30/50\n",
      "20s - loss: 0.4573 - acc: 0.8387 - val_loss: 0.6840 - val_acc: 0.7912\n",
      "Epoch 31/50\n",
      "20s - loss: 0.4437 - acc: 0.8453 - val_loss: 0.6487 - val_acc: 0.7926\n",
      "Epoch 32/50\n",
      "20s - loss: 0.4442 - acc: 0.8433 - val_loss: 0.6611 - val_acc: 0.7974\n",
      "Epoch 33/50\n",
      "20s - loss: 0.4352 - acc: 0.8466 - val_loss: 0.6589 - val_acc: 0.7908\n",
      "Epoch 34/50\n",
      "20s - loss: 0.4332 - acc: 0.8479 - val_loss: 0.6445 - val_acc: 0.7939\n",
      "Epoch 35/50\n",
      "20s - loss: 0.4376 - acc: 0.8478 - val_loss: 0.6679 - val_acc: 0.7941\n",
      "Epoch 36/50\n",
      "20s - loss: 0.4274 - acc: 0.8507 - val_loss: 0.6401 - val_acc: 0.7979\n",
      "Epoch 37/50\n",
      "20s - loss: 0.4280 - acc: 0.8508 - val_loss: 0.6743 - val_acc: 0.7940\n",
      "Epoch 38/50\n",
      "20s - loss: 0.4263 - acc: 0.8513 - val_loss: 0.6687 - val_acc: 0.7972\n",
      "Epoch 39/50\n",
      "20s - loss: 0.4181 - acc: 0.8537 - val_loss: 0.6571 - val_acc: 0.7949\n",
      "Epoch 40/50\n",
      "20s - loss: 0.4148 - acc: 0.8556 - val_loss: 0.6448 - val_acc: 0.8039\n",
      "Epoch 41/50\n",
      "20s - loss: 0.4151 - acc: 0.8547 - val_loss: 0.6697 - val_acc: 0.7912\n",
      "Epoch 42/50\n",
      "20s - loss: 0.4017 - acc: 0.8590 - val_loss: 0.6592 - val_acc: 0.7987\n",
      "Epoch 43/50\n",
      "20s - loss: 0.4006 - acc: 0.8603 - val_loss: 0.6620 - val_acc: 0.7966\n",
      "Epoch 44/50\n",
      "20s - loss: 0.4140 - acc: 0.8556 - val_loss: 0.6474 - val_acc: 0.8002\n",
      "Epoch 45/50\n",
      "20s - loss: 0.4029 - acc: 0.8614 - val_loss: 0.6981 - val_acc: 0.7907\n",
      "Epoch 46/50\n",
      "20s - loss: 0.3987 - acc: 0.8625 - val_loss: 0.6389 - val_acc: 0.8016\n",
      "Epoch 47/50\n",
      "20s - loss: 0.3930 - acc: 0.8634 - val_loss: 0.6521 - val_acc: 0.8002\n",
      "Epoch 48/50\n",
      "20s - loss: 0.4019 - acc: 0.8616 - val_loss: 0.6768 - val_acc: 0.7944\n",
      "Epoch 49/50\n",
      "20s - loss: 0.3885 - acc: 0.8658 - val_loss: 0.6423 - val_acc: 0.8023\n",
      "Epoch 50/50\n",
      "20s - loss: 0.3860 - acc: 0.8650 - val_loss: 0.6692 - val_acc: 0.8005\n"
     ]
    }
   ],
   "source": [
    "model_fn = 'cifar10_model.h5'\n",
    "if os.path.exists(model_fn):\n",
    "    model = load_model(model_fn)\n",
    "else:\n",
    "    model = Sequential()\n",
    "\n",
    "    model.add(Conv2D(32, (3, 3), padding='same', input_shape=X_train.shape[1:], activation='relu'))\n",
    "    model.add(Conv2D(32, (3, 3), activation='relu'))\n",
    "    model.add(MaxPooling2D(pool_size=(2,2)))\n",
    "    model.add(Dropout(0.25))\n",
    "\n",
    "    model.add(Conv2D(64, (3, 3), padding='same', activation='relu'))\n",
    "    model.add(Conv2D(64, (3, 3), activation='relu'))\n",
    "    model.add(MaxPooling2D(pool_size=(2,2)))\n",
    "    model.add(Dropout(0.25))\n",
    "\n",
    "    model.add(Flatten())\n",
    "    model.add(Dense(512, activation='relu'))\n",
    "    model.add(Dropout(0.5))\n",
    "    model.add(Dense(len(category), activation='softmax'))\n",
    "\n",
    "    # Fails to converge using RMSprop, see https://github.com/fchollet/keras/issues/4897, so use\n",
    "    # Adam instead.\n",
    "    optimizer = 'adam'\n",
    "\n",
    "    model.compile(loss='categorical_crossentropy',\n",
    "                  optimizer=optimizer,\n",
    "                  metrics=['accuracy'])\n",
    "\n",
    "    model.summary()\n",
    "\n",
    "    model.fit(X_train, Y_train,\n",
    "              batch_size=32,\n",
    "              epochs=50,\n",
    "              validation_data=(X_test, Y_test),\n",
    "              shuffle=True,\n",
    "              verbose=2)\n",
    "    model.save(model_fn)"
   ]
  },
  {
   "cell_type": "markdown",
   "metadata": {},
   "source": [
    "Here are some example predictions from the test set:"
   ]
  },
  {
   "cell_type": "code",
   "execution_count": 32,
   "metadata": {},
   "outputs": [
    {
     "data": {
      "image/png": "[encoded data removed]",
      "text/plain": [
       "<matplotlib.figure.Figure at 0x7f31ec504390>"
      ]
     },
     "metadata": {},
     "output_type": "display_data"
    },
    {
     "data": {
      "text/html": [
       "<span style=\"color: red\">2 bird</span><br/>3 cat"
      ],
      "text/plain": [
       "<IPython.core.display.HTML object>"
      ]
     },
     "metadata": {},
     "output_type": "display_data"
    },
    {
     "data": {
      "image/png": "[encoded data removed]",
      "text/plain": [
       "<matplotlib.figure.Figure at 0x7f3204669b00>"
      ]
     },
     "metadata": {},
     "output_type": "display_data"
    },
    {
     "data": {
      "text/html": [
       "<span style=\"color: green\">8 ship</span><br/>8 ship"
      ],
      "text/plain": [
       "<IPython.core.display.HTML object>"
      ]
     },
     "metadata": {},
     "output_type": "display_data"
    },
    {
     "data": {
      "image/png": "[encoded data removed]",
      "text/plain": [
       "<matplotlib.figure.Figure at 0x7f32047d9710>"
      ]
     },
     "metadata": {},
     "output_type": "display_data"
    },
    {
     "data": {
      "text/html": [
       "<span style=\"color: green\">0 airplane</span><br/>0 airplane"
      ],
      "text/plain": [
       "<IPython.core.display.HTML object>"
      ]
     },
     "metadata": {},
     "output_type": "display_data"
    }
   ],
   "source": [
    "test_i_s = np.random.randint(0, len(X_test), size=3)\n",
    "\n",
    "for X, pred, true_label in zip(X_test[test_i_s], model.predict_classes(X_test[test_i_s], verbose=False), y_test[test_i_s]):\n",
    "    true_label = int(true_label)\n",
    "    plt.imshow(X)\n",
    "    plt.show()\n",
    "    \n",
    "    color = \"green\" if pred == true_label else \"red\"\n",
    "    \n",
    "    display(HTML(\n",
    "        '<span style=\"color: {}\">{} {}</span><br/>{} {}'.format(\n",
    "            color,\n",
    "            pred, category[pred],\n",
    "            true_label, category[true_label]\n",
    "        )\n",
    "    ))"
   ]
  }
 ],
 "metadata": {
  "kernelspec": {
   "display_name": "Python 3",
   "language": "python",
   "name": "python3"
  },
  "language_info": {
   "codemirror_mode": {
    "name": "ipython",
    "version": 3
   },
   "file_extension": ".py",
   "mimetype": "text/x-python",
   "name": "python",
   "nbconvert_exporter": "python",
   "pygments_lexer": "ipython3",
   "version": "3.5.3"
  }
 },
 "nbformat": 4,
 "nbformat_minor": 1
}

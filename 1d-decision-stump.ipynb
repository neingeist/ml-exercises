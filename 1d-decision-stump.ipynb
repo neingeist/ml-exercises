{
 "metadata": {
  "signature": "sha256:1d594c89dece658e8efead1adca2d6a1a0a43c5a559f741f06613f46d6443f3f"
 },
 "nbformat": 3,
 "nbformat_minor": 0,
 "worksheets": [
  {
   "cells": [
    {
     "cell_type": "code",
     "collapsed": false,
     "input": [
      "from __future__ import division, print_function\n",
      "import matplotlib.pyplot as plt\n",
      "import numpy as np\n",
      "import operator\n",
      "\n",
      "%matplotlib inline"
     ],
     "language": "python",
     "metadata": {},
     "outputs": [],
     "prompt_number": 58
    },
    {
     "cell_type": "code",
     "collapsed": false,
     "input": [
      "x = np.array([0, 1, 2, 3, 5, 6, 7, 8, 9, 10])\n",
      "y = np.array([-1, -1, -1, -1, -1, 1, 1, 1, 1, 1])"
     ],
     "language": "python",
     "metadata": {},
     "outputs": [],
     "prompt_number": 82
    },
    {
     "cell_type": "code",
     "collapsed": false,
     "input": [
      "def plot_data():\n",
      "  fig = plt.figure()\n",
      "  plt.xlim(min(x)-2, max(x)+2)\n",
      "  plt.gca().get_yaxis().set_visible(False)\n",
      "  #print(x[y == +1])\n",
      "  plt.plot(x[y == +1], np.zeros_like(x[y == +1]), 'xg')\n",
      "  plt.plot(x[y == -1], np.zeros_like(x[y == -1]), 'or')\n",
      "# plt.axis('off')\n",
      "#plt.show()\n",
      "plot_data()"
     ],
     "language": "python",
     "metadata": {},
     "outputs": [
      {
       "metadata": {},
       "output_type": "display_data",
       "png": "[encoded data removed]",
       "text": [
        "<matplotlib.figure.Figure at 0x7fd27cb714e0>"
       ]
      }
     ],
     "prompt_number": 83
    },
    {
     "cell_type": "code",
     "collapsed": false,
     "input": [
      "# XXX x needs to be sorted\n",
      "# XXX x needs to be with unique values\n",
      "\n",
      "plot_data()\n",
      "plt.plot(x, np.cumsum(y), 'black')\n",
      "plt.plot(x, np.cumsum(y[::-1])[::-1], 'gray')\n",
      "plt.plot(x, - np.cumsum(y) + np.cumsum(y[::-1])[::-1], 'red')\n",
      "max_s = max(zip(range(len(x)), abs(- np.cumsum(y) + np.cumsum(y[::-1])[::-1])), key=operator.itemgetter(1))\n",
      "print(max_s)\n",
      "i = max_s[0]\n",
      "s = max_s[1]\n",
      "threshold = (x[i] + x[i+1]) / 2\n",
      "err = 0.5 - 0.5*s/(len(x))  # XXX\n",
      "# sign of change\n",
      "print(threshold)\n",
      "print(err)\n",
      "plt.eventplot([threshold])"
     ],
     "language": "python",
     "metadata": {},
     "outputs": [
      {
       "output_type": "stream",
       "stream": "stdout",
       "text": [
        "(4, 9)\n",
        "5.5\n",
        "0.05\n"
       ]
      },
      {
       "metadata": {},
       "output_type": "pyout",
       "prompt_number": 84,
       "text": [
        "[<matplotlib.collections.EventCollection at 0x7fd27d2dc400>]"
       ]
      },
      {
       "metadata": {},
       "output_type": "display_data",
       "png": "[encoded data removed]",
       "text": [
        "<matplotlib.figure.Figure at 0x7fd27c93b320>"
       ]
      }
     ],
     "prompt_number": 84
    }
   ],
   "metadata": {}
  }
 ]
}
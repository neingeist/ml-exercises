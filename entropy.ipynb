{
 "cells": [
  {
   "cell_type": "code",
   "execution_count": 1,
   "metadata": {},
   "outputs": [],
   "source": [
    "from __future__ import division, print_function\n",
    "%matplotlib inline\n",
    "\n",
    "from math import log\n",
    "import matplotlib.pyplot as plt\n",
    "import numpy as np"
   ]
  },
  {
   "cell_type": "code",
   "execution_count": 2,
   "metadata": {},
   "outputs": [],
   "source": [
    "def ld(x):\n",
    "    \"\"\"Logarithm to base 2\"\"\"\n",
    "    return log(x, 2)\n",
    "\n",
    "def entropy_p(p_plus):\n",
    "    \"\"\"Entropy\"\"\"\n",
    "    p_minus = 1 - p_plus\n",
    "    \n",
    "    if p_plus == 0 or p_plus == 1:\n",
    "        return 0\n",
    "    \n",
    "    return - p_plus * ld(p_plus) - p_minus * ld(p_minus)\n",
    "\n",
    "def valid_set(s):\n",
    "    return all(np.logical_or(s == +1, s == -1))\n",
    "\n",
    "def entropy(s):\n",
    "    \"\"\"Entropy of set\"\"\"\n",
    "    assert valid_set(s)\n",
    "    p_plus = np.count_nonzero(s[s == 1])/len(s)\n",
    "    \n",
    "    return entropy_p(p_plus)"
   ]
  },
  {
   "cell_type": "markdown",
   "metadata": {},
   "source": [
    "# So what's the entropy of these sets?"
   ]
  },
  {
   "cell_type": "code",
   "execution_count": 3,
   "metadata": {},
   "outputs": [
    {
     "name": "stdout",
     "output_type": "stream",
     "text": [
      "[ 1  1  1  1  1  1  1  1  1 -1 -1 -1 -1 -1]\n",
      "0.94\n",
      "[1. 1. 1. 1. 1. 1. 1. 1. 1. 1.]\n",
      "0\n",
      "[ 1.  1.  1.  1.  1.  1.  1.  1.  1.  1. -1.]\n",
      "0.44\n",
      "[ 1 -1]\n",
      "1.0\n"
     ]
    }
   ],
   "source": [
    "sets = [np.array([+1] * 9 + [-1] * 5),\n",
    "        np.ones(10),\n",
    "        np.append(np.ones(10), [-1]),\n",
    "        np.append([1], [-1])]\n",
    "for s in sets:\n",
    "    print(s)\n",
    "    print(round(entropy(s), 2))"
   ]
  },
  {
   "cell_type": "markdown",
   "metadata": {},
   "source": [
    "# Let's plot"
   ]
  },
  {
   "cell_type": "code",
   "execution_count": 4,
   "metadata": {},
   "outputs": [
    {
     "data": {
      "text/plain": [
       "[<matplotlib.lines.Line2D at 0x7fdb2067db38>]"
      ]
     },
     "execution_count": 4,
     "metadata": {},
     "output_type": "execute_result"
    },
    {
     "data": {
      "image/png": "[encoded data removed]",
      "text/plain": [
       "<Figure size 432x288 with 1 Axes>"
      ]
     },
     "metadata": {},
     "output_type": "display_data"
    }
   ],
   "source": [
    "X = np.linspace(0.0, 1.0)\n",
    "Y = [entropy_p(x) for x in X]\n",
    "plt.plot(X, Y)"
   ]
  }
 ],
 "metadata": {
  "kernelspec": {
   "display_name": "Python 3",
   "language": "python",
   "name": "python3"
  },
  "language_info": {
   "codemirror_mode": {
    "name": "ipython",
    "version": 3
   },
   "file_extension": ".py",
   "mimetype": "text/x-python",
   "name": "python",
   "nbconvert_exporter": "python",
   "pygments_lexer": "ipython3",
   "version": "3.7.1"
  }
 },
 "nbformat": 4,
 "nbformat_minor": 1
}

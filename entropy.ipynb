{
 "metadata": {
  "name": "",
  "signature": "sha256:445af0f6fe077e08d33382f54ffcfd960d42cbb63e56933d92614f88dd5b522f"
 },
 "nbformat": 3,
 "nbformat_minor": 0,
 "worksheets": [
  {
   "cells": [
    {
     "cell_type": "code",
     "collapsed": false,
     "input": [
      "from __future__ import division, print_function\n",
      "%matplotlib inline\n",
      "\n",
      "from math import log\n",
      "import matplotlib.pyplot as plt\n",
      "import numpy as np"
     ],
     "language": "python",
     "metadata": {},
     "outputs": [],
     "prompt_number": 4
    },
    {
     "cell_type": "code",
     "collapsed": false,
     "input": [
      "def ld(x):\n",
      "    \"\"\"Logarithm to base 2\"\"\"\n",
      "    return log(x, 2)\n",
      "\n",
      "def entropy_p(p_plus):\n",
      "    \"\"\"Entropy\"\"\"\n",
      "    p_minus = 1 - p_plus\n",
      "    \n",
      "    if p_plus == 0 or p_plus == 1:\n",
      "        return 0\n",
      "    \n",
      "    return - p_plus * ld(p_plus) - p_minus * ld(p_minus)\n",
      "\n",
      "def valid_set(set_):\n",
      "    return all(np.logical_or(S == +1, S == -1))\n",
      "\n",
      "def entropy(set_):\n",
      "    \"\"\"Entropy of set\"\"\"\n",
      "    assert valid_set(set_)\n",
      "    p_plus = np.count_nonzero(S[S == 1])/len(S)\n",
      "    \n",
      "    return entropy_p(p_plus)"
     ],
     "language": "python",
     "metadata": {},
     "outputs": [],
     "prompt_number": 2
    },
    {
     "cell_type": "markdown",
     "metadata": {},
     "source": [
      "# So what's the entropy of these sets?"
     ]
    },
    {
     "cell_type": "code",
     "collapsed": false,
     "input": [
      "sets = [np.array([+1] * 9 + [-1] * 5),\n",
      "        np.ones(10),\n",
      "        np.append(np.ones(10), [-1]),\n",
      "        np.append([1], [-1])]\n",
      "for S in sets:\n",
      "    print(S)\n",
      "    print(round(entropy(S), 2))"
     ],
     "language": "python",
     "metadata": {},
     "outputs": [
      {
       "output_type": "stream",
       "stream": "stdout",
       "text": [
        "[ 1  1  1  1  1  1  1  1  1 -1 -1 -1 -1 -1]\n",
        "0.94\n",
        "[ 1.  1.  1.  1.  1.  1.  1.  1.  1.  1.]\n",
        "0.0\n",
        "[ 1.  1.  1.  1.  1.  1.  1.  1.  1.  1. -1.]\n",
        "0.44\n",
        "[ 1 -1]\n",
        "1.0\n"
       ]
      }
     ],
     "prompt_number": 3
    },
    {
     "cell_type": "markdown",
     "metadata": {},
     "source": [
      "# Let's plot"
     ]
    },
    {
     "cell_type": "code",
     "collapsed": false,
     "input": [
      "X = np.linspace(0.0, 1.0)\n",
      "Y = [entropy_p(x) for x in X]\n",
      "plt.plot(X, Y)"
     ],
     "language": "python",
     "metadata": {},
     "outputs": [
      {
       "metadata": {},
       "output_type": "pyout",
       "prompt_number": 5,
       "text": [
        "[<matplotlib.lines.Line2D at 0x7fb55c0534d0>]"
       ]
      },
      {
       "metadata": {},
       "output_type": "display_data",
       "png": "[encoded data removed]",
       "text": [
        "<matplotlib.figure.Figure at 0x7fb574308550>"
       ]
      }
     ],
     "prompt_number": 5
    }
   ],
   "metadata": {}
  }
 ]
}
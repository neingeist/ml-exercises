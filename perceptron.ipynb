{
 "metadata": {
  "name": "",
  "signature": "sha256:a6de9c300bcd6d1226bbd84f464ff43882bec0b4acc7256de3983b542f69b6c8"
 },
 "nbformat": 3,
 "nbformat_minor": 0,
 "worksheets": [
  {
   "cells": [
    {
     "cell_type": "code",
     "collapsed": false,
     "input": [
      "%matplotlib inline\n",
      "import matplotlib.pyplot as plt\n",
      "import numpy as np\n",
      "import operator"
     ],
     "language": "python",
     "metadata": {},
     "outputs": [],
     "prompt_number": 1
    },
    {
     "cell_type": "markdown",
     "metadata": {},
     "source": [
      "First, we need some data, labeled as positive or negative. Here I generate this data using a Gaussian with some fixed means and standard deviations."
     ]
    },
    {
     "cell_type": "code",
     "collapsed": false,
     "input": [
      "N = 200\n",
      "\n",
      "pos_mean = [0, 0]\n",
      "pos_cov = [[1, -1], \n",
      "           [2, 1]]\n",
      "neg_mean = [-7, -1]\n",
      "neg_cov = [[2, 3],\n",
      "           [1, 2]]\n",
      "\n",
      "X = np.concatenate((np.random.multivariate_normal(pos_mean, pos_cov, N//2),\n",
      "                   np.random.multivariate_normal(neg_mean, neg_cov, N//2)))\n",
      "Y = np.concatenate((np.array([+1]*(N//2)), np.array([-1]*(N//2))))"
     ],
     "language": "python",
     "metadata": {},
     "outputs": [],
     "prompt_number": 2
    },
    {
     "cell_type": "code",
     "collapsed": false,
     "input": [
      "def plot_data(X, Y):\n",
      "    Xpos = X[Y == +1]\n",
      "    Xneg = X[Y == -1]\n",
      "    plt.plot(Xpos[:,0], Xpos[:,1], 'g+')\n",
      "    plt.plot(Xneg[:,0], Xneg[:,1], 'r_')\n",
      "    \n",
      "plot_data(X, Y)"
     ],
     "language": "python",
     "metadata": {},
     "outputs": [
      {
       "metadata": {},
       "output_type": "display_data",
       "png": "[encoded data removed]",
       "text": [
        "<matplotlib.figure.Figure at 0x7f77c4211cd0>"
       ]
      }
     ],
     "prompt_number": 3
    },
    {
     "cell_type": "markdown",
     "metadata": {},
     "source": [
      "# The basic Perceptron learning algorithm"
     ]
    },
    {
     "cell_type": "code",
     "collapsed": true,
     "input": [
      "def feedforward(x, weights):\n",
      "    x_ = np.concatenate(([1], x))\n",
      "    return np.sign(np.dot(x_, weights))\n",
      "\n",
      "weights = np.random.randn(3)\n",
      "learning_constant = 0.01\n",
      "\n",
      "loops = 0\n",
      "changes = True\n",
      "\n",
      "while changes and loops < 10000:\n",
      "    loops += 1\n",
      "    old_weights = np.copy(weights)\n",
      "    for i, x in enumerate(X):\n",
      "        error = Y[i] - feedforward(x, weights)   \n",
      "        x_ = np.concatenate(([1], x))\n",
      "        weights += learning_constant * error * x_\n",
      "    changes = not np.allclose(weights, old_weights)\n",
      "    \n",
      "    \n",
      "def plot_boundary(weights):\n",
      "    # Fix plot limits to data limits\n",
      "    plt.xlim(*plt.xlim())\n",
      "    plt.ylim(*plt.ylim())\n",
      "    \n",
      "    # Plot decision boundary (within data limits)\n",
      "    xs = np.linspace(*plt.xlim())\n",
      "    ys = (-weights[1]*xs - weights[0]*1)/weights[2]\n",
      "    plt.plot(xs, ys)\n",
      "    \n",
      "plot_data(X, Y); plot_boundary(weights);\n",
      "\n",
      "print('Algorithm {} after {} loops.'.format('stopped' if not changes else 'did not stop', loops))"
     ],
     "language": "python",
     "metadata": {},
     "outputs": [
      {
       "output_type": "stream",
       "stream": "stdout",
       "text": [
        "Algorithm stopped after 3 loops.\n"
       ]
      },
      {
       "metadata": {},
       "output_type": "display_data",
       "png": "[encoded data removed]",
       "text": [
        "<matplotlib.figure.Figure at 0x7f77c4211e10>"
       ]
      }
     ],
     "prompt_number": 4
    }
   ],
   "metadata": {}
  }
 ]
}
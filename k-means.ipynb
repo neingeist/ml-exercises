{
 "cells": [
  {
   "cell_type": "code",
   "execution_count": 1,
   "metadata": {
    "collapsed": false
   },
   "outputs": [],
   "source": [
    "%matplotlib inline\n",
    "\n",
    "from __future__ import division, print_function\n",
    "import matplotlib.pyplot as plt\n",
    "import numpy as np\n",
    "import scipy.spatial"
   ]
  },
  {
   "cell_type": "markdown",
   "metadata": {},
   "source": [
    "Generate some (unlabeled) test data:"
   ]
  },
  {
   "cell_type": "code",
   "execution_count": 2,
   "metadata": {
    "collapsed": false
   },
   "outputs": [],
   "source": [
    "N = 200\n",
    "\n",
    "c1_mean = [4, 4]\n",
    "c1_cov  = [[1, -1], \n",
    "            [2,  1]]\n",
    "c2_mean = [-7, -1]\n",
    "c2_cov  = [[2, 3],\n",
    "            [1, 2]]\n",
    "\n",
    "X = np.concatenate((np.random.multivariate_normal(c1_mean, c1_cov, N//2),\n",
    "                    np.random.multivariate_normal(c2_mean, c2_cov, N//2)))"
   ]
  },
  {
   "cell_type": "markdown",
   "metadata": {},
   "source": [
    "Randomly initialize centroids by sampling from the data:"
   ]
  },
  {
   "cell_type": "code",
   "execution_count": 3,
   "metadata": {
    "collapsed": false
   },
   "outputs": [],
   "source": [
    "K = 3\n",
    "centroids = X[np.random.choice(X.shape[0], K, replace=False),:]"
   ]
  },
  {
   "cell_type": "code",
   "execution_count": 4,
   "metadata": {
    "collapsed": false
   },
   "outputs": [],
   "source": [
    "colors = \"bgrcmykw\"\n",
    "\n",
    "def plot_data(X, Y):\n",
    "    for k in range(K):\n",
    "        xs = X[Y == k]\n",
    "        plt.plot(xs[:,0], xs[:,1], colors[k % len(colors)]+\"+\")"
   ]
  },
  {
   "cell_type": "markdown",
   "metadata": {},
   "source": [
    "Here comes the basic algorithm:"
   ]
  },
  {
   "cell_type": "code",
   "execution_count": 6,
   "metadata": {
    "collapsed": false
   },
   "outputs": [
    {
     "data": {
      "image/png": "[encoded data removed]",
      "text/plain": [
       "<matplotlib.figure.Figure at 0x7efc2efd1a10>"
      ]
     },
     "metadata": {},
     "output_type": "display_data"
    }
   ],
   "source": [
    "for _ in range(100):\n",
    "    # Assignment step\n",
    "    sqdists = scipy.spatial.distance.cdist(centroids, X, 'sqeuclidean')\n",
    "    y = np.argmin(sqdists, axis=0)\n",
    "    \n",
    "    # Move cluster step\n",
    "    for k in range(K):\n",
    "        centroids[k] = np.mean(X[y == k])\n",
    "         \n",
    "plot_data(X, y)"
   ]
  }
 ],
 "metadata": {
  "kernelspec": {
   "display_name": "Python 2",
   "language": "python",
   "name": "python2"
  },
  "language_info": {
   "codemirror_mode": {
    "name": "ipython",
    "version": 2
   },
   "file_extension": ".py",
   "mimetype": "text/x-python",
   "name": "python",
   "nbconvert_exporter": "python",
   "pygments_lexer": "ipython2",
   "version": "2.7.11"
  }
 },
 "nbformat": 4,
 "nbformat_minor": 0
}
